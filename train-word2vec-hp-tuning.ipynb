{
 "cells": [
  {
   "cell_type": "code",
   "execution_count": null,
   "id": "automated-listing",
   "metadata": {},
   "outputs": [],
   "source": [
    "import boto3\n",
    "import sagemaker\n",
    "\n",
    "session = boto3.session.Session()\n",
    "aws_region = session.region_name\n",
    "s3_bucket  =  # s3 bucket name\n",
    "\n",
    "try:\n",
    "    s3_client = boto3.client('s3')\n",
    "    response = s3_client.get_bucket_location(Bucket=s3_bucket)\n",
    "    print(f\"Bucket region: {response['LocationConstraint']}\")\n",
    "except:\n",
    "    print(f\"Access Error: Check if '{s3_bucket}' S3 bucket is in '{aws_region}' region\")"
   ]
  },
  {
   "cell_type": "code",
   "execution_count": null,
   "id": "oriented-ambassador",
   "metadata": {},
   "outputs": [],
   "source": [
    "s3_prefix = \"models/blazing-text/word2vec/dbpedia\"\n",
    "s3_output_location = f\"s3://{s3_bucket}/{s3_prefix}\"\n",
    "print(f\"Model output location:{s3_output_location}\")"
   ]
  },
  {
   "cell_type": "code",
   "execution_count": null,
   "id": "broadband-thesis",
   "metadata": {},
   "outputs": [],
   "source": [
    "container = sagemaker.image_uris.retrieve(\"blazingtext\", aws_region, \"1\")\n",
    "print(f\"Using SageMaker BlazingText container: {container} ({aws_region})\")"
   ]
  },
  {
   "cell_type": "code",
   "execution_count": null,
   "id": "delayed-private",
   "metadata": {},
   "outputs": [],
   "source": [
    "sess = sagemaker.Session()\n",
    "role = sagemaker.get_execution_role()\n",
    "print(role)\n",
    "\n",
    "bt_model = sagemaker.estimator.Estimator(\n",
    "    container,\n",
    "    role,\n",
    "    instance_count=1,\n",
    "    instance_type=\"ml.c5.4xlarge\",\n",
    "    volume_size=100,\n",
    "    max_run=360000,\n",
    "    input_mode=\"File\",\n",
    "    output_path=s3_output_location,\n",
    "    sagemaker_session=sess,\n",
    ")"
   ]
  },
  {
   "cell_type": "code",
   "execution_count": null,
   "id": "neural-creature",
   "metadata": {},
   "outputs": [],
   "source": [
    "bt_model.set_hyperparameters(\n",
    "    min_count=5,\n",
    "    sampling_threshold=0.0001,\n",
    "    learning_rate=0.05,\n",
    "    evaluation=True,  # Perform similarity evaluation on WS-353 dataset at the end of training\n",
    "    subwords=True,\n",
    ")"
   ]
  },
  {
   "cell_type": "code",
   "execution_count": null,
   "id": "disciplinary-lyric",
   "metadata": {},
   "outputs": [],
   "source": [
    "from sagemaker.tuner import IntegerParameter\n",
    "from sagemaker.tuner import CategoricalParameter\n",
    "\n",
    "objective_metric_name = \"train:mean_rho\"\n",
    "\n",
    "vector_dim = IntegerParameter(100,200)\n",
    "window_size = IntegerParameter(5,10)\n",
    "negative_samples = IntegerParameter(5,10)\n",
    "mode = CategoricalParameter([\"skipgram\", \"cbow\"])\n",
    "epochs = IntegerParameter(10,50)\n",
    "\n",
    "hyperparameter_ranges={}\n",
    "hyperparameter_ranges['vector_dim'] = vector_dim\n",
    "hyperparameter_ranges['window_size'] = window_size\n",
    "hyperparameter_ranges['negative_samples'] = negative_samples\n",
    "hyperparameter_ranges[\"mode\"] = mode\n",
    "hyperparameter_ranges[\"epochs\"] = epochs"
   ]
  },
  {
   "cell_type": "code",
   "execution_count": null,
   "id": "corrected-witch",
   "metadata": {},
   "outputs": [],
   "source": [
    "from sagemaker.tuner import HyperparameterTuner\n",
    "\n",
    "hyperparameter_tuner=HyperparameterTuner(bt_model, \n",
    "                                         objective_metric_name, \n",
    "                                         hyperparameter_ranges, \n",
    "                                         strategy='Bayesian', \n",
    "                                         objective_type='Maximize', \n",
    "                                         max_jobs=20, \n",
    "                                         max_parallel_jobs=1, \n",
    "                                         base_tuning_job_name='blazingtext-tuning')"
   ]
  },
  {
   "cell_type": "code",
   "execution_count": null,
   "id": "experimental-independence",
   "metadata": {},
   "outputs": [],
   "source": [
    "from sagemaker.inputs import TrainingInput\n",
    "s3_train = f\"s3://{s3_bucket}/blazing-text/word2vec/dbpedia\"\n",
    "\n",
    "train_input = TrainingInput(s3_data=s3_train, \n",
    "                            distribution=\"FullyReplicated\", \n",
    "                            s3_data_type=\"S3Prefix\", \n",
    "                            input_mode=\"File\")\n",
    "\n",
    "data_channels = {\"train\": train_input}"
   ]
  },
  {
   "cell_type": "code",
   "execution_count": null,
   "id": "moderate-labor",
   "metadata": {},
   "outputs": [],
   "source": [
    "hyperparameter_tuner.fit(inputs=data_channels, wait=False, logs=True)"
   ]
  },
  {
   "cell_type": "code",
   "execution_count": null,
   "id": "spread-brake",
   "metadata": {},
   "outputs": [],
   "source": []
  }
 ],
 "metadata": {
  "kernelspec": {
   "display_name": "conda_python3",
   "language": "python",
   "name": "conda_python3"
  },
  "language_info": {
   "codemirror_mode": {
    "name": "ipython",
    "version": 3
   },
   "file_extension": ".py",
   "mimetype": "text/x-python",
   "name": "python",
   "nbconvert_exporter": "python",
   "pygments_lexer": "ipython3",
   "version": "3.6.10"
  }
 },
 "nbformat": 4,
 "nbformat_minor": 5
}
