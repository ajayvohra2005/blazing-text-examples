{
 "cells": [
  {
   "cell_type": "code",
   "execution_count": null,
   "id": "suited-muslim",
   "metadata": {},
   "outputs": [],
   "source": [
    "import boto3\n",
    "import sagemaker\n",
    "\n",
    "session = boto3.session.Session()\n",
    "aws_region = session.region_name\n",
    "s3_bucket  = # s3 bucket name\n",
    "\n",
    "try:\n",
    "    s3_client = boto3.client('s3')\n",
    "    response = s3_client.get_bucket_location(Bucket=s3_bucket)\n",
    "    print(f\"Bucket region: {response['LocationConstraint']}\")\n",
    "except:\n",
    "    print(f\"Access Error: Check if '{s3_bucket}' S3 bucket is in '{aws_region}' region\")"
   ]
  },
  {
   "cell_type": "code",
   "execution_count": null,
   "id": "simple-sodium",
   "metadata": {},
   "outputs": [],
   "source": [
    "s3_prefix = \"models/blazing-text/classification/dbpedia\"\n",
    "s3_output_location = f\"s3://{s3_bucket}/{s3_prefix}\"\n",
    "print(f\"Model output location:{s3_output_location}\")"
   ]
  },
  {
   "cell_type": "code",
   "execution_count": null,
   "id": "linear-romantic",
   "metadata": {},
   "outputs": [],
   "source": [
    "container = sagemaker.image_uris.retrieve(\"blazingtext\", aws_region, \"1\")\n",
    "print(f\"Using SageMaker BlazingText container: {container} ({aws_region})\")"
   ]
  },
  {
   "cell_type": "code",
   "execution_count": null,
   "id": "pediatric-manchester",
   "metadata": {},
   "outputs": [],
   "source": [
    "from smexperiments.experiment import Experiment\n",
    "from smexperiments.trial import Trial\n",
    "from smexperiments.trial_component import TrialComponent\n",
    "from smexperiments.tracker import Tracker\n",
    "import time\n",
    "\n",
    "sess = sagemaker.Session()\n",
    "role = sagemaker.get_execution_role()\n",
    "print(role)"
   ]
  },
  {
   "cell_type": "code",
   "execution_count": null,
   "id": "generic-armor",
   "metadata": {},
   "outputs": [],
   "source": [
    "sm = boto3.client(\"sagemaker\")\n",
    "with Tracker.create(display_name=\"Dataset\", sagemaker_boto_client=sm) as tracker:\n",
    "    # we can log the s3 uri to the dataset used for training\n",
    "    tracker.log_input(\n",
    "        name=\"dbpedia-dataset\",\n",
    "        media_type=\"s3/uri\",\n",
    "        value=f\"s3://{s3_bucket}/blazing-text/classification/dbpedia/train\",  # specify S3 URL to your dataset\n",
    "    )"
   ]
  },
  {
   "cell_type": "code",
   "execution_count": null,
   "id": "civilian-being",
   "metadata": {},
   "outputs": [],
   "source": [
    "bt_classify_exp = Experiment.create(\n",
    "    experiment_name=f\"bt-classify-{int(time.time())}\",\n",
    "    description=\"Blazing Text Classification\",\n",
    "    sagemaker_boto_client=sm,\n",
    ")"
   ]
  },
  {
   "cell_type": "code",
   "execution_count": null,
   "id": "derived-luxembourg",
   "metadata": {},
   "outputs": [],
   "source": [
    "hyperparameters = {\n",
    "    \"mode\": \"supervised\",\n",
    "    \"word_ngrams\": \"2\",\n",
    "    \"patience\": \"4\",\n",
    "    \"min_epochs\": \"15\",\n",
    "    \"min_count\": \"5\",\n",
    "    \"learning_rate\": \"0.05\",\n",
    "}"
   ]
  },
  {
   "cell_type": "code",
   "execution_count": null,
   "id": "younger-abortion",
   "metadata": {},
   "outputs": [],
   "source": [
    "from sagemaker.inputs import TrainingInput\n",
    "s3_train = f\"s3://{s3_bucket}/blazing-text/classification/dbpedia/train\"\n",
    "\n",
    "train_input = TrainingInput(s3_data=s3_train, \n",
    "                            distribution=\"FullyReplicated\", \n",
    "                            s3_data_type=\"S3Prefix\", \n",
    "                            input_mode=\"File\")\n",
    "\n",
    "s3_validation = f\"s3://{s3_bucket}/blazing-text/classification/dbpedia/validation\"\n",
    "\n",
    "validation_input = TrainingInput(s3_data=s3_train, \n",
    "                            distribution=\"FullyReplicated\", \n",
    "                            s3_data_type=\"S3Prefix\", \n",
    "                            input_mode=\"File\")\n",
    "\n",
    "data_channels = {\"train\": train_input, \"validation\": validation_input}"
   ]
  },
  {
   "cell_type": "code",
   "execution_count": null,
   "id": "limited-motel",
   "metadata": {},
   "outputs": [],
   "source": [
    "trial_params = [ (100, 30, False),  (200, 40, True)]\n",
    "\n",
    "for vector_dim, epochs, early_stopping in trial_params:\n",
    "    \n",
    "    hyperparameters['epochs'] = epochs\n",
    "    hyperparameters['vector_dim'] = vector_dim\n",
    "    hyperparameters['early_stopping'] = early_stopping\n",
    "    \n",
    "    trial_name = f\"bt-classify-{int(time.time())}\"\n",
    "    bt_trial = Trial.create(\n",
    "                        trial_name=trial_name, \n",
    "                        experiment_name=bt_classify_exp.experiment_name,\n",
    "                        sagemaker_boto_client=sm,\n",
    "    )\n",
    "    \n",
    "    # associate the proprocessing trial component with the current trial\n",
    "    bt_trial.add_trial_component(tracker.trial_component)\n",
    "\n",
    "    bt_model = sagemaker.estimator.Estimator(\n",
    "                        container,\n",
    "                        role,\n",
    "                        instance_count=1,\n",
    "                        instance_type=\"ml.c5.4xlarge\",\n",
    "                        volume_size=100,\n",
    "                        max_run=360000,\n",
    "                        input_mode=\"File\",\n",
    "                        output_path=s3_output_location,\n",
    "                        sagemaker_session=sess,\n",
    "                        hyperparameters=hyperparameters\n",
    "                )\n",
    "    \n",
    "   \n",
    "\n",
    "    bt_model.fit(inputs=data_channels, \n",
    "                job_name=bt_trial.trial_name,\n",
    "                logs=True,  \n",
    "                experiment_config={\"TrialName\": bt_trial.trial_name, \"TrialComponentDisplayName\": \"Training\"},\n",
    "                wait=False)\n",
    "\n",
    "    # sleep in between starting two trials\n",
    "    time.sleep(2)"
   ]
  },
  {
   "cell_type": "code",
   "execution_count": null,
   "id": "careful-legislature",
   "metadata": {},
   "outputs": [],
   "source": [
    "search_expression = {\n",
    "    \"Filters\": [\n",
    "        {\n",
    "            \"Name\": \"DisplayName\",\n",
    "            \"Operator\": \"Equals\",\n",
    "            \"Value\": \"Training\",\n",
    "        }\n",
    "    ],\n",
    "}"
   ]
  },
  {
   "cell_type": "code",
   "execution_count": null,
   "id": "declared-wagon",
   "metadata": {},
   "outputs": [],
   "source": [
    "from sagemaker.analytics import ExperimentAnalytics\n",
    "\n",
    "trial_component_analytics = ExperimentAnalytics(\n",
    "    sagemaker_session=sess,\n",
    "    experiment_name=bt_classify_exp.experiment_name,\n",
    "    search_expression=search_expression,\n",
    "    sort_by=\"metrics.validation:accuracy.max\",\n",
    "    sort_order=\"Descending\",\n",
    "    parameter_names=[\"vector_dim\", \"epochs\", \"early_stopping\"],\n",
    ")"
   ]
  },
  {
   "cell_type": "code",
   "execution_count": null,
   "id": "modular-avenue",
   "metadata": {},
   "outputs": [],
   "source": [
    "analytic_table = trial_component_analytics.dataframe()\n",
    "for col in analytic_table.columns:\n",
    "    print(col)"
   ]
  },
  {
   "cell_type": "code",
   "execution_count": null,
   "id": "stupid-evidence",
   "metadata": {},
   "outputs": [],
   "source": [
    "train_map = analytic_table[\n",
    "    [\"vector_dim\", \"epochs\", \"early_stopping\", \"train:accuracy - Avg\", \"train:accuracy - StdDev\" ]\n",
    "]\n",
    "train_map"
   ]
  },
  {
   "cell_type": "code",
   "execution_count": null,
   "id": "coupled-liberia",
   "metadata": {},
   "outputs": [],
   "source": [
    "validation_map = analytic_table[\n",
    "    [\"vector_dim\", \"epochs\", \"early_stopping\", \"validation:accuracy - Avg\", \"validation:accuracy - StdDev\" ]\n",
    "]\n",
    "validation_map"
   ]
  },
  {
   "cell_type": "code",
   "execution_count": null,
   "id": "particular-gibraltar",
   "metadata": {},
   "outputs": [],
   "source": []
  }
 ],
 "metadata": {
  "kernelspec": {
   "display_name": "conda_python3",
   "language": "python",
   "name": "conda_python3"
  },
  "language_info": {
   "codemirror_mode": {
    "name": "ipython",
    "version": 3
   },
   "file_extension": ".py",
   "mimetype": "text/x-python",
   "name": "python",
   "nbconvert_exporter": "python",
   "pygments_lexer": "ipython3",
   "version": "3.6.10"
  }
 },
 "nbformat": 4,
 "nbformat_minor": 5
}
