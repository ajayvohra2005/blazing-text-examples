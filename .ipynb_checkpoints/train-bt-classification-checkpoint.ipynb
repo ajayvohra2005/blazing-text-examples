{
 "cells": [
  {
   "cell_type": "code",
   "execution_count": null,
   "id": "chinese-biology",
   "metadata": {},
   "outputs": [],
   "source": [
    "import boto3\n",
    "import sagemaker\n",
    "\n",
    "session = boto3.session.Session()\n",
    "aws_region = session.region_name\n",
    "s3_bucket  =  # s3 bucket name\n",
    "\n",
    "try:\n",
    "    s3_client = boto3.client('s3')\n",
    "    response = s3_client.get_bucket_location(Bucket=s3_bucket)\n",
    "    print(f\"Bucket region: {response['LocationConstraint']}\")\n",
    "except:\n",
    "    print(f\"Access Error: Check if '{s3_bucket}' S3 bucket is in '{aws_region}' region\")"
   ]
  },
  {
   "cell_type": "code",
   "execution_count": null,
   "id": "sharing-massachusetts",
   "metadata": {},
   "outputs": [],
   "source": [
    "s3_prefix = \"models/blazing-text/classification/dbpedia\"\n",
    "s3_output_location = f\"s3://{s3_bucket}/{s3_prefix}\"\n",
    "print(f\"Model output location:{s3_output_location}\")"
   ]
  },
  {
   "cell_type": "code",
   "execution_count": null,
   "id": "suburban-arabic",
   "metadata": {},
   "outputs": [],
   "source": [
    "container = sagemaker.image_uris.retrieve(\"blazingtext\", aws_region, \"1\")\n",
    "print(f\"Using SageMaker BlazingText container: {container} ({aws_region})\")"
   ]
  },
  {
   "cell_type": "code",
   "execution_count": null,
   "id": "elder-perfume",
   "metadata": {},
   "outputs": [],
   "source": [
    "sess = sagemaker.Session()\n",
    "role = sagemaker.get_execution_role()\n",
    "print(role)\n",
    "\n",
    "bt_model = sagemaker.estimator.Estimator(\n",
    "    container,\n",
    "    role,\n",
    "    instance_count=1,\n",
    "    instance_type=\"ml.c5.4xlarge\",\n",
    "    volume_size=100,\n",
    "    max_run=360000,\n",
    "    input_mode=\"File\",\n",
    "    output_path=s3_output_location,\n",
    "    sagemaker_session=sess,\n",
    ")"
   ]
  },
  {
   "cell_type": "code",
   "execution_count": null,
   "id": "reported-boards",
   "metadata": {},
   "outputs": [],
   "source": [
    "bt_model.set_hyperparameters(\n",
    "    mode=\"supervised\",\n",
    "    word_ngrams=2,\n",
    "    early_stopping=True,\n",
    "    patience=4,\n",
    "    min_epochs=15,\n",
    "    epochs=30,\n",
    "    min_count=5,\n",
    "    learning_rate=0.05,\n",
    "    vector_dim=150,\n",
    ")"
   ]
  },
  {
   "cell_type": "code",
   "execution_count": null,
   "id": "entitled-lecture",
   "metadata": {},
   "outputs": [],
   "source": [
    "from sagemaker.inputs import TrainingInput\n",
    "s3_train = f\"s3://{s3_bucket}/blazing-text/classification/dbpedia/train\"\n",
    "\n",
    "train_input = TrainingInput(s3_data=s3_train, \n",
    "                            distribution=\"FullyReplicated\", \n",
    "                            s3_data_type=\"S3Prefix\", \n",
    "                            input_mode=\"File\")\n",
    "\n",
    "s3_validation = f\"s3://{s3_bucket}/blazing-text/classification/dbpedia/validation\"\n",
    "\n",
    "validation_input = TrainingInput(s3_data=s3_train, \n",
    "                            distribution=\"FullyReplicated\", \n",
    "                            s3_data_type=\"S3Prefix\", \n",
    "                            input_mode=\"File\")\n",
    "\n",
    "data_channels = {\"train\": train_input, \"validation\": validation_input}"
   ]
  },
  {
   "cell_type": "code",
   "execution_count": null,
   "id": "liable-grace",
   "metadata": {},
   "outputs": [],
   "source": [
    "bt_model.fit(inputs=data_channels, logs=\"All\", wait=True)"
   ]
  },
  {
   "cell_type": "code",
   "execution_count": null,
   "id": "boolean-coordination",
   "metadata": {},
   "outputs": [],
   "source": [
    "from sagemaker.serializers import JSONSerializer\n",
    "\n",
    "text_classifier = bt_model.deploy(\n",
    "    initial_instance_count=1, instance_type=\"ml.m5.xlarge\", serializer=JSONSerializer()\n",
    ")\n"
   ]
  },
  {
   "cell_type": "code",
   "execution_count": null,
   "id": "nutritional-visit",
   "metadata": {},
   "outputs": [],
   "source": [
    "import json\n",
    "\n",
    "sentences = [\n",
    "    \"Convair was an american aircraft manufacturing company which later expanded into rockets and spacecraft.\",\n",
    "    \"Berwick secondary college is situated in the outer melbourne metropolitan suburb of berwick .\",\n",
    "]\n",
    "\n",
    "# using the same nltk tokenizer that we used during data preparation for training\n",
    "tokenized_sentences = [\" \".join(x.replace('\"', '').replace(\".\", \" . \").replace(\",\", \" , \").replace(\"-\", \" - \").replace(\"'\", \"\").replace(\"(\", \" ( \").replace(\")\", \" ) \")) for x in sentences]\n",
    "\n",
    "payload = {\"instances\": tokenized_sentences, \"configuration\": {\"k\": 2}}\n",
    "\n",
    "response = text_classifier.predict(payload)\n",
    "\n",
    "predictions = json.loads(response)\n",
    "print(json.dumps(predictions, indent=2))"
   ]
  },
  {
   "cell_type": "code",
   "execution_count": null,
   "id": "little-capitol",
   "metadata": {},
   "outputs": [],
   "source": [
    "text_classifier.delete_endpoint(delete_endpoint_config=True)\n",
    "text_classifier.delete_model()"
   ]
  },
  {
   "cell_type": "code",
   "execution_count": null,
   "id": "innocent-vinyl",
   "metadata": {},
   "outputs": [],
   "source": []
  }
 ],
 "metadata": {
  "kernelspec": {
   "display_name": "conda_python3",
   "language": "python",
   "name": "conda_python3"
  },
  "language_info": {
   "codemirror_mode": {
    "name": "ipython",
    "version": 3
   },
   "file_extension": ".py",
   "mimetype": "text/x-python",
   "name": "python",
   "nbconvert_exporter": "python",
   "pygments_lexer": "ipython3",
   "version": "3.6.10"
  }
 },
 "nbformat": 4,
 "nbformat_minor": 5
}
